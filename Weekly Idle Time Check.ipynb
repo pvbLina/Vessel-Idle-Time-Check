{
 "cells": [
  {
   "cell_type": "code",
   "execution_count": 12,
   "metadata": {
    "collapsed": true
   },
   "outputs": [],
   "source": [
    "import pandas as pd\n",
    "\n",
    "df = pd.read_csv(\"Book1.csv\")\n",
    "gsis = pd.read_csv(\"Book2.csv\")"
   ]
  },
  {
   "cell_type": "code",
   "execution_count": 13,
   "metadata": {},
   "outputs": [],
   "source": [
    "handover = pd.DataFrame()\n",
    "\n",
    "handover['ship'] = df['vessel name']\n",
    "handover['port'] = df['port code']\n",
    "handover['comment'] = df['coment']\n",
    "\n",
    "#handover"
   ]
  },
  {
   "cell_type": "code",
   "execution_count": 15,
   "metadata": {},
   "outputs": [],
   "source": [
    "idleCuttOff = 100\n",
    "\n",
    "gs = pd.DataFrame()\n",
    "gs[\"idle\"] = gsis[gsis[\"idle time\"] > idleCuttOff]['idle time']\n",
    "gs['ship'] = gsis[gsis[\"idle time\"] > idleCuttOff]['vessel name']\n",
    "gs['port'] = gsis[gsis[\"idle time\"] > idleCuttOff]['port code']\n",
    "gs['date'] = gsis[gsis['idle time'] > idleCuttOff]['comence time']\n",
    "\n",
    "#gs"
   ]
  },
  {
   "cell_type": "code",
   "execution_count": 16,
   "metadata": {},
   "outputs": [],
   "source": [
    "comments = []\n",
    "\n",
    "for (index, row) in gs.iterrows():\n",
    "    comments.append(handover[(handover['ship'] == row['ship']) & (handover['port'] == row['port'])]['comment'].values)\n",
    "    \n",
    "#comments"
   ]
  },
  {
   "cell_type": "code",
   "execution_count": 17,
   "metadata": {},
   "outputs": [
    {
     "data": {
      "text/html": [
       "<div>\n",
       "<style>\n",
       "    .dataframe thead tr:only-child th {\n",
       "        text-align: right;\n",
       "    }\n",
       "\n",
       "    .dataframe thead th {\n",
       "        text-align: left;\n",
       "    }\n",
       "\n",
       "    .dataframe tbody tr th {\n",
       "        vertical-align: top;\n",
       "    }\n",
       "</style>\n",
       "<table border=\"1\" class=\"dataframe\">\n",
       "  <thead>\n",
       "    <tr style=\"text-align: right;\">\n",
       "      <th></th>\n",
       "      <th>idle</th>\n",
       "      <th>ship</th>\n",
       "      <th>port</th>\n",
       "      <th>date</th>\n",
       "      <th>comment</th>\n",
       "    </tr>\n",
       "  </thead>\n",
       "  <tbody>\n",
       "    <tr>\n",
       "      <th>0</th>\n",
       "      <td>340</td>\n",
       "      <td>MARSTAL MAERSK</td>\n",
       "      <td>DEBRVTM</td>\n",
       "      <td>2/13/2018 14:00</td>\n",
       "      <td>[ETD 02/1500, could not sail on time ]</td>\n",
       "    </tr>\n",
       "    <tr>\n",
       "      <th>2</th>\n",
       "      <td>356</td>\n",
       "      <td>Majestic</td>\n",
       "      <td>DEHAMEK</td>\n",
       "      <td>2/13/2018 15:00</td>\n",
       "      <td>[etc 15/0100, Sailing 03:00 due to tide]</td>\n",
       "    </tr>\n",
       "    <tr>\n",
       "      <th>7</th>\n",
       "      <td>678</td>\n",
       "      <td>pavlina</td>\n",
       "      <td>GBTBY01</td>\n",
       "      <td>2/14/2018 15:00</td>\n",
       "      <td>[etd 15/06:00]</td>\n",
       "    </tr>\n",
       "  </tbody>\n",
       "</table>\n",
       "</div>"
      ],
      "text/plain": [
       "   idle            ship     port             date  \\\n",
       "0   340  MARSTAL MAERSK  DEBRVTM  2/13/2018 14:00   \n",
       "2   356        Majestic  DEHAMEK  2/13/2018 15:00   \n",
       "7   678         pavlina  GBTBY01  2/14/2018 15:00   \n",
       "\n",
       "                                    comment  \n",
       "0    [ETD 02/1500, could not sail on time ]  \n",
       "2  [etc 15/0100, Sailing 03:00 due to tide]  \n",
       "7                            [etd 15/06:00]  "
      ]
     },
     "execution_count": 17,
     "metadata": {},
     "output_type": "execute_result"
    }
   ],
   "source": [
    "gs['comment'] = comments\n",
    "gs"
   ]
  }
 ],
 "metadata": {
  "kernelspec": {
   "display_name": "Python 3",
   "language": "python",
   "name": "python3"
  },
  "language_info": {
   "codemirror_mode": {
    "name": "ipython",
    "version": 3
   },
   "file_extension": ".py",
   "mimetype": "text/x-python",
   "name": "python",
   "nbconvert_exporter": "python",
   "pygments_lexer": "ipython3",
   "version": "3.6.1"
  }
 },
 "nbformat": 4,
 "nbformat_minor": 2
}
